{
 "cells": [
  {
   "cell_type": "code",
   "execution_count": 1,
   "metadata": {},
   "outputs": [],
   "source": [
    "from rdkit import Chem\n",
    "from rdkit.Chem import Draw\n",
    "import pandas as pd\n",
    "\n",
    "data = pd.read_csv(\"catalysts.csv\")\n",
    "catalysts = list(data[\"smiles\"])\n",
    "labels = list(data[\"label\"])\n",
    "mols = [Chem.MolFromSmiles(s) for s in catalysts]"
   ]
  },
  {
   "cell_type": "code",
   "execution_count": 2,
   "metadata": {},
   "outputs": [],
   "source": [
    "# Catalysts Cores\n",
    "patt_1 = Chem.MolFromSmarts(\"O=P(Oc1c2c3ccccc3cc1)(O)Oc4c2c5ccccc5cc4\")\n",
    "patt_2 = Chem.MolFromSmarts(\"O=P(Oc1c2c3c(CCCC3)cc1)(O)Oc4c2c(CCCC5)c5cc4\")"
   ]
  },
  {
   "cell_type": "code",
   "execution_count": 3,
   "metadata": {},
   "outputs": [],
   "source": [
    "# Extract substituent from catalysts, with dummy atoms indicating attachment point\n",
    "subs = {}\n",
    "for mol, label in zip(mols, labels):\n",
    "    if mol.HasSubstructMatch(patt_1):\n",
    "        tmp = Chem.ReplaceCore(mol, patt_1)\n",
    "    elif mol.HasSubstructMatch(patt_2):\n",
    "        tmp = Chem.ReplaceCore(mol, patt_2)\n",
    "    rs = Chem.GetMolFrags(tmp, asMols=True)\n",
    "    subs[label.split(\"_\")[0]] = Chem.MolToSmiles(rs[0])"
   ]
  },
  {
   "cell_type": "code",
   "execution_count": 4,
   "metadata": {},
   "outputs": [],
   "source": [
    "# Add substituent to NMe4+ core\n",
    "results = {}\n",
    "core = Chem.AddHs(Chem.MolFromSmiles(\"C[N+](C)(C)C\"))\n",
    "patt = Chem.MolFromSmarts(\"[H]\")\n",
    "for label, sub in subs.items():\n",
    "    repl = Chem.RWMol(Chem.MolFromSmiles(sub))\n",
    "    repl.RemoveAtom(0)    # remove dummy atom\n",
    "    Chem.SanitizeMol(repl)\n",
    "    rms = Chem.ReplaceSubstructs(core, patt, repl)\n",
    "    res = Chem.RemoveHs(rms[0])\n",
    "    res.SetProp(\"Label\", str(label))\n",
    "    results[label] = res"
   ]
  },
  {
   "cell_type": "code",
   "execution_count": 5,
   "metadata": {},
   "outputs": [],
   "source": [
    "# Draw\n",
    "img = Draw.MolsToGridImage(results.values(), molsPerRow=6, subImgSize=(400, 400),\n",
    "                           legends=[m.GetProp(\"Label\") for m in results.values()])\n",
    "img.save(\"subs.png\")"
   ]
  },
  {
   "cell_type": "code",
   "execution_count": null,
   "metadata": {},
   "outputs": [],
   "source": []
  }
 ],
 "metadata": {
  "kernelspec": {
   "display_name": "deepchem",
   "language": "python",
   "name": "deepchem"
  },
  "language_info": {
   "codemirror_mode": {
    "name": "ipython",
    "version": 3
   },
   "file_extension": ".py",
   "mimetype": "text/x-python",
   "name": "python",
   "nbconvert_exporter": "python",
   "pygments_lexer": "ipython3",
   "version": "3.7.7"
  }
 },
 "nbformat": 4,
 "nbformat_minor": 4
}
