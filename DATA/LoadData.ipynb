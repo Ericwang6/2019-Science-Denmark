{
 "cells": [
  {
   "cell_type": "markdown",
   "metadata": {},
   "source": [
    "### Random Split"
   ]
  },
  {
   "cell_type": "code",
   "execution_count": null,
   "metadata": {},
   "outputs": [],
   "source": [
    "import pickle\n",
    "from rdkit import Chem\n",
    "from data_prepare import *\n",
    "import pandas as pd\n",
    "\n",
    "# Load data\n",
    "descriptors = [\"ASO\", \"ESP\", \"NBO\"]\n",
    "Denmark_data = load_raw_data(descriptors, origin=\"Denmark\")\n",
    "\n",
    "catalysts = pd.read_csv(\"../ASO/Catalysts/catalysts.csv\")\n",
    "imines = pd.read_csv(\"../ASO/Imines/imines.csv\")\n",
    "thiols = pd.read_csv(\"../ASO/Thiols/thiols.csv\")\n",
    "\n",
    "d = {}\n",
    "for df in [catalysts, imines, thiols]:\n",
    "    d.update(dict([(Chem.MolToInchi(Chem.MolFromSmiles(smi)), str(label)) for smi, label in zip(df[\"smiles\"], df[\"label\"]) if label != \"ref\"]))\n",
    "\n",
    "datas = []\n",
    "for i in range(10):\n",
    "    ori_data = pd.read_excel(\"Denmark_data_original.xlsx\", sheet_name=\"FullCV_{:02}\".format(i + 1))\n",
    "    reactions = []\n",
    "    for c, i, t, ddG in zip(ori_data[\"Catalyst\"], ori_data[\"Imine\"], ori_data[\"Thiol\"], ori_data[\"Output\"]):\n",
    "        cat = Chem.MolToInchi(Chem.MolFromSmiles(c))\n",
    "        imi = Chem.MolToInchi(Chem.MolFromSmiles(i))\n",
    "        thi = Chem.MolToInchi(Chem.MolFromSmiles(t))\n",
    "        try:\n",
    "            reactions.append(f\"{d[cat]}_{d[imi]}_{d[thi]}\")\n",
    "        except Exception as e:\n",
    "            reactions.append(f\"328_vi_{d[imi]}_{d[thi]}\")\n",
    "    train_comb = reactions[:600]\n",
    "    test_comb = reactions[600:]\n",
    "    data = load_data(Denmark_data, train_comb, test_comb, feature_selection=\"mutual_info_regression\", n_features=0.25)\n",
    "    datas.append(data)\n",
    "with open(\"./RandomSplit/random_split.pickle\", \"wb\") as f:\n",
    "    pickle.dump(datas, f)"
   ]
  },
  {
   "cell_type": "markdown",
   "metadata": {},
   "source": [
    "### Combination Split"
   ]
  },
  {
   "cell_type": "code",
   "execution_count": null,
   "metadata": {},
   "outputs": [],
   "source": [
    "import os\n",
    "import pickle\n",
    "from data_prepare import *\n",
    "\n",
    "# Load data\n",
    "print(\"Loading Data...\")\n",
    "descriptors = [\"ASO\", \"ESP\", \"NBO\"]\n",
    "Denmark_data = load_raw_data(descriptors, origin=\"Denmark\", save_to_file=\"DATA_Denmark.csv\")\n",
    "print(\"Completed!\")\n",
    "\n",
    "train_combs, test_combs = split_combinations(mode=\"combination\")\n",
    "test_cat, test_subs, test_catsubs = tuple(test_combs)\n",
    "\n",
    "print(\"Loading sub-dataset...\")\n",
    "cat_data = load_data(Denmark_data, train_combs,\n",
    "                     test_cat, feature_selection=\"mutual_info_regression\", n_features=0.25)\n",
    "print(\"Test Catalysts Completed!\")\n",
    "subs_data = load_data(Denmark_data, train_combs,\n",
    "                      test_subs, feature_selection=\"mutual_info_regression\", n_features=0.25)\n",
    "print(\"Test Substrates Completed!\")\n",
    "catsubs_data = load_data(Denmark_data, train_combs,\n",
    "                         test_catsubs, feature_selection=\"mutual_info_regression\", n_features=0.25)\n",
    "print(\"Test Cat/Subs Completed!\")\n",
    "\n",
    "datas = {}\n",
    "datas[\"cat_data\"] = cat_data\n",
    "datas[\"subs_data\"] = subs_data\n",
    "datas[\"catsubs_data\"] = catsubs_data\n",
    "\n",
    "file = \"./CombinationSplit/combination_split.pickle\"\n",
    "with open(file, \"wb\") as f:\n",
    "    pickle.dump(datas, f)\n",
    "print(f\"Store Data to {os.path.abspath(file)}\")"
   ]
  },
  {
   "cell_type": "markdown",
   "metadata": {},
   "source": [
    "### JACS Case Study 1"
   ]
  },
  {
   "cell_type": "code",
   "execution_count": null,
   "metadata": {},
   "outputs": [],
   "source": [
    "from data_prepare import *\n",
    "import pickle\n",
    "\n",
    "train_combs, test_combs = split_combinations(mode=\"combination\")\n",
    "test_cat, test_subs, test_catsubs = tuple(test_combs)\n",
    "\n",
    "ASO_ESPMAX_data = load_raw_data(descriptors=[\"ASO\", \"ESPMAX\"])\n",
    "\n",
    "cat_data = load_data(ASO_ESPMAX_data, train_combs, test_cat, feature_selection=\"f_regression\", n_features=500)\n",
    "subs_data = load_data(ASO_ESPMAX_data, train_combs, test_subs, feature_selection=\"f_regression\", n_features=500)\n",
    "catsubs_data = load_data(ASO_ESPMAX_data, train_combs, test_catsubs, feature_selection=\"f_regression\", n_features=500)\n",
    "\n",
    "datas = {}\n",
    "datas[\"cat_data\"] = cat_data\n",
    "datas[\"subs_data\"] = subs_data\n",
    "datas[\"catsubs_data\"] = catsubs_data\n",
    "\n",
    "with open(\"./JACS-CaseStudy1/ASO_ESPMAX_FREG500.pickle\", \"wb\") as f:\n",
    "    pickle.dump(datas, f)"
   ]
  },
  {
   "cell_type": "code",
   "execution_count": 4,
   "metadata": {},
   "outputs": [
    {
     "name": "stderr",
     "output_type": "stream",
     "text": [
      "/Users/apple/opt/anaconda3/envs/deepchem/lib/python3.7/site-packages/sklearn/feature_selection/_univariate_selection.py:296: RuntimeWarning: invalid value encountered in sqrt\n",
      "  n_samples * X_means ** 2)\n",
      "/Users/apple/opt/anaconda3/envs/deepchem/lib/python3.7/site-packages/scipy/stats/_distn_infrastructure.py:903: RuntimeWarning: invalid value encountered in greater\n",
      "  return (a < x) & (x < b)\n",
      "/Users/apple/opt/anaconda3/envs/deepchem/lib/python3.7/site-packages/scipy/stats/_distn_infrastructure.py:903: RuntimeWarning: invalid value encountered in less\n",
      "  return (a < x) & (x < b)\n",
      "/Users/apple/opt/anaconda3/envs/deepchem/lib/python3.7/site-packages/scipy/stats/_distn_infrastructure.py:1912: RuntimeWarning: invalid value encountered in less_equal\n",
      "  cond2 = cond0 & (x <= _a)\n",
      "/Users/apple/opt/anaconda3/envs/deepchem/lib/python3.7/site-packages/sklearn/feature_selection/_univariate_selection.py:296: RuntimeWarning: invalid value encountered in sqrt\n",
      "  n_samples * X_means ** 2)\n",
      "/Users/apple/opt/anaconda3/envs/deepchem/lib/python3.7/site-packages/scipy/stats/_distn_infrastructure.py:903: RuntimeWarning: invalid value encountered in greater\n",
      "  return (a < x) & (x < b)\n",
      "/Users/apple/opt/anaconda3/envs/deepchem/lib/python3.7/site-packages/scipy/stats/_distn_infrastructure.py:903: RuntimeWarning: invalid value encountered in less\n",
      "  return (a < x) & (x < b)\n",
      "/Users/apple/opt/anaconda3/envs/deepchem/lib/python3.7/site-packages/scipy/stats/_distn_infrastructure.py:1912: RuntimeWarning: invalid value encountered in less_equal\n",
      "  cond2 = cond0 & (x <= _a)\n",
      "/Users/apple/opt/anaconda3/envs/deepchem/lib/python3.7/site-packages/sklearn/feature_selection/_univariate_selection.py:296: RuntimeWarning: invalid value encountered in sqrt\n",
      "  n_samples * X_means ** 2)\n",
      "/Users/apple/opt/anaconda3/envs/deepchem/lib/python3.7/site-packages/scipy/stats/_distn_infrastructure.py:903: RuntimeWarning: invalid value encountered in greater\n",
      "  return (a < x) & (x < b)\n",
      "/Users/apple/opt/anaconda3/envs/deepchem/lib/python3.7/site-packages/scipy/stats/_distn_infrastructure.py:903: RuntimeWarning: invalid value encountered in less\n",
      "  return (a < x) & (x < b)\n",
      "/Users/apple/opt/anaconda3/envs/deepchem/lib/python3.7/site-packages/scipy/stats/_distn_infrastructure.py:1912: RuntimeWarning: invalid value encountered in less_equal\n",
      "  cond2 = cond0 & (x <= _a)\n"
     ]
    }
   ],
   "source": [
    "SIF_ESPMAX_data = load_raw_data(descriptors=[\"SIF\", \"ESPMAX\"])\n",
    "\n",
    "cat_data = load_data(SIF_ESPMAX_data, train_combs, test_cat, feature_selection=\"f_regression\", n_features=500)\n",
    "subs_data = load_data(SIF_ESPMAX_data, train_combs, test_subs, feature_selection=\"f_regression\", n_features=500)\n",
    "catsubs_data = load_data(SIF_ESPMAX_data, train_combs, test_catsubs, feature_selection=\"f_regression\", n_features=500)\n",
    "\n",
    "datas = {}\n",
    "datas[\"cat_data\"] = cat_data\n",
    "datas[\"subs_data\"] = subs_data\n",
    "datas[\"catsubs_data\"] = catsubs_data\n",
    "\n",
    "with open(\"./JACS-CaseStudy1/SIF_ESPMAX_FREG500.pickle\", \"wb\") as f:\n",
    "    pickle.dump(datas, f)"
   ]
  }
 ],
 "metadata": {
  "kernelspec": {
   "display_name": "deepchem",
   "language": "python",
   "name": "deepchem"
  },
  "language_info": {
   "codemirror_mode": {
    "name": "ipython",
    "version": 3
   },
   "file_extension": ".py",
   "mimetype": "text/x-python",
   "name": "python",
   "nbconvert_exporter": "python",
   "pygments_lexer": "ipython3",
   "version": "3.7.7"
  }
 },
 "nbformat": 4,
 "nbformat_minor": 4
}
