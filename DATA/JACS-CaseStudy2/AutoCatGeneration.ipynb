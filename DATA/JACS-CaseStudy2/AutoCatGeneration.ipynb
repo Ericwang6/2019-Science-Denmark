{
 "cells": [
  {
   "cell_type": "code",
   "execution_count": 3,
   "metadata": {},
   "outputs": [],
   "source": [
    "from rdkit import Chem\n",
    "from rdkit.Chem import Draw\n",
    "import pandas as pd"
   ]
  },
  {
   "cell_type": "code",
   "execution_count": 4,
   "metadata": {},
   "outputs": [],
   "source": [
    "df = pd.read_csv(\"subs.csv\")\n",
    "subs = dict([(label, smi) for label, smi in zip(df[\"label\"], df[\"smiles\"])])"
   ]
  },
  {
   "cell_type": "code",
   "execution_count": 5,
   "metadata": {},
   "outputs": [],
   "source": [
    "catalysts = {}\n",
    "core = Chem.MolFromSmiles(\"O[C@@H]([C@@]1([H])[N@+]2([H])C[C@H](CC)[C@@H](CC2)C1)C3=C4C(C=CC=C4)=NC=C3\")\n",
    "core = Chem.AddHs(core)\n",
    "patt_O = Chem.MolFromSmarts(r\"[$([H]O)]\")\n",
    "patt_N = Chem.MolFromSmarts(r\"[$([H]N)]\")\n",
    "for label_O in [1, 2, 3, 4, 5, 6, 7, 8, 9, 10, 11]:\n",
    "    smi = subs[label_O]\n",
    "    cano_smi = Chem.MolToSmiles(Chem.MolFromSmiles(smi))\n",
    "    repl = Chem.RWMol(Chem.MolFromSmiles(cano_smi))\n",
    "    repl.RemoveAtom(0)\n",
    "    Chem.SanitizeMol(repl)\n",
    "    rms = Chem.ReplaceSubstructs(core, patt_N, repl)\n",
    "    res = rms[0]\n",
    "    for label_N in [1, 3, 4, 5, 6, 7, 12, 13]:\n",
    "        smi = subs[label_N]\n",
    "        cano_smi = Chem.MolToSmiles(Chem.MolFromSmiles(smi))\n",
    "        repl = Chem.RWMol(Chem.MolFromSmiles(cano_smi))\n",
    "        repl.RemoveAtom(0)\n",
    "        Chem.SanitizeMol(repl)\n",
    "        rms = Chem.ReplaceSubstructs(res, patt_O, repl)\n",
    "        res = rms[0]\n",
    "        catalysts[f'{label_N}_{label_O}'] = Chem.MolToSmiles(Chem.RemoveHs(res))"
   ]
  },
  {
   "cell_type": "code",
   "execution_count": 52,
   "metadata": {},
   "outputs": [
    {
     "name": "stdout",
     "output_type": "stream",
     "text": [
      "1_1\n"
     ]
    },
    {
     "data": {
      "image/png": "[encoded data removed]",
      "text/plain": [
       "<rdkit.Chem.rdchem.Mol at 0x7fe7894328f0>"
      ]
     },
     "execution_count": 52,
     "metadata": {},
     "output_type": "execute_result"
    }
   ],
   "source": [
    "key = list(catalysts.keys())[0]\n",
    "print(key)\n",
    "smi = catalysts[key]\n",
    "Chem.MolFromSmiles(smi)"
   ]
  },
  {
   "cell_type": "code",
   "execution_count": 82,
   "metadata": {},
   "outputs": [],
   "source": [
    "c = pd.DataFrame({\"smiles\": list(catalysts.values()), \"label\": list(catalysts.keys())})\n",
    "c.to_csv(\"catalysts.csv\", index=None)"
   ]
  },
  {
   "cell_type": "code",
   "execution_count": null,
   "metadata": {},
   "outputs": [],
   "source": []
  }
 ],
 "metadata": {
  "kernelspec": {
   "display_name": "deepchem",
   "language": "python",
   "name": "deepchem"
  },
  "language_info": {
   "codemirror_mode": {
    "name": "ipython",
    "version": 3
   },
   "file_extension": ".py",
   "mimetype": "text/x-python",
   "name": "python",
   "nbconvert_exporter": "python",
   "pygments_lexer": "ipython3",
   "version": "3.7.7"
  }
 },
 "nbformat": 4,
 "nbformat_minor": 4
}
