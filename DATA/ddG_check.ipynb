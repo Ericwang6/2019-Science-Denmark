{
 "cells": [
  {
   "cell_type": "code",
   "execution_count": 49,
   "metadata": {},
   "outputs": [],
   "source": [
    "## ddG check\n",
    "import pandas as pd\n",
    "import numpy as np\n",
    "import pickle\n",
    "from rdkit import Chem\n",
    "from data_prepare import *"
   ]
  },
  {
   "cell_type": "code",
   "execution_count": 50,
   "metadata": {},
   "outputs": [],
   "source": [
    "catalysts = pd.read_csv(\"../ASO/Catalysts/catalysts.csv\")\n",
    "imines = pd.read_csv(\"../ASO/Imines/imines.csv\")\n",
    "thiols = pd.read_csv(\"../ASO/Thiols/thiols.csv\")\n",
    "\n",
    "d = {}\n",
    "for df in [catalysts, imines, thiols]:\n",
    "    d.update(dict([(Chem.MolToInchi(Chem.MolFromSmiles(smi)), str(label)) for smi, label in zip(df[\"smiles\"], df[\"label\"]) if label != \"ref\"]))"
   ]
  },
  {
   "cell_type": "code",
   "execution_count": 51,
   "metadata": {},
   "outputs": [],
   "source": [
    "ori_data = pd.read_excel(\"Denmark_data_original.xlsx\", sheet_name=\"performance\")\n",
    "ori = {}\n",
    "for c, i, t, ddG in zip(ori_data[\"Catalyst\"], ori_data[\"Imine\"], ori_data[\"Thiol\"], ori_data[\"Output\"]):\n",
    "    cat = Chem.MolToInchi(Chem.MolFromSmiles(c))\n",
    "    imi = Chem.MolToInchi(Chem.MolFromSmiles(i))\n",
    "    thi = Chem.MolToInchi(Chem.MolFromSmiles(t))\n",
    "    try:\n",
    "        ori[f\"{d[cat]}_{d[imi]}_{d[thi]}\"] = ddG\n",
    "    except Exception as e:\n",
    "        ori[f\"328_vi_{d[imi]}_{d[thi]}\"] = ddG"
   ]
  },
  {
   "cell_type": "code",
   "execution_count": 52,
   "metadata": {},
   "outputs": [],
   "source": [
    "ee = pd.read_excel(\"Reaction_data.xlsx\", index_col=0)[\"% ee\"]\n",
    "ee.index = [x.replace(\"202_i\", \"202_vi\") for x in ee.index]\n",
    "R = 1.98718\n",
    "T = 298.15\n",
    "er = (ee + 100) / (100 - ee)\n",
    "ddG = R * T * np.log(er) / 1000\n",
    "my = ddG.to_dict()"
   ]
  },
  {
   "cell_type": "code",
   "execution_count": 53,
   "metadata": {},
   "outputs": [
    {
     "name": "stdout",
     "output_type": "stream",
     "text": [
      "0.0015405859378523346\n"
     ]
    }
   ],
   "source": [
    "err = np.array([abs(ori[key]-my[key]) for key in ori.keys()])\n",
    "print(err.max())"
   ]
  },
  {
   "cell_type": "code",
   "execution_count": 54,
   "metadata": {},
   "outputs": [],
   "source": [
    "df = []\n",
    "for reaction, ddG in ori.items():\n",
    "    df.append({\"Reaction\": reaction, \"ddG\": ddG})\n",
    "df = pd.DataFrame(df)\n",
    "df.to_csv(\"Reaction_data.csv\", index=False)"
   ]
  },
  {
   "cell_type": "code",
   "execution_count": null,
   "metadata": {},
   "outputs": [],
   "source": []
  }
 ],
 "metadata": {
  "kernelspec": {
   "display_name": "deepchem",
   "language": "python",
   "name": "deepchem"
  },
  "language_info": {
   "codemirror_mode": {
    "name": "ipython",
    "version": 3
   },
   "file_extension": ".py",
   "mimetype": "text/x-python",
   "name": "python",
   "nbconvert_exporter": "python",
   "pygments_lexer": "ipython3",
   "version": "3.7.7"
  }
 },
 "nbformat": 4,
 "nbformat_minor": 4
}
