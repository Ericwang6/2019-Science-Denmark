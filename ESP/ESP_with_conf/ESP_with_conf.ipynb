{
 "cells": [
  {
   "cell_type": "code",
   "execution_count": null,
   "metadata": {},
   "outputs": [],
   "source": [
    "from rdkit import Chem\n",
    "from rdkit.Chem import AllChem, Draw\n",
    "import numpy as np\n",
    "import pandas as pd\n",
    "import os\n",
    "\n",
    "root_dir = os.getcwd()"
   ]
  },
  {
   "cell_type": "code",
   "execution_count": null,
   "metadata": {},
   "outputs": [],
   "source": [
    "# with conformer_id\n",
    "def write_nw_file(nw_file, mol, basis=\"6-31G*\", geometry=\"\", calc_ESP=True, cid=0): \n",
    "    # Geometry Block of a Molecule\n",
    "    if not geometry:\n",
    "        conf = mol.GetConformer(cid)\n",
    "        nAtom = mol.GetNumAtoms()\n",
    "        for atomId in range(nAtom):\n",
    "            atomType = mol.GetAtomWithIdx(atomId).GetSymbol()\n",
    "            x, y, z = conf.GetAtomPosition(atomId)\n",
    "            geometry += \"\\t{}\\t{:<20}\\t{:<20}\\t{:<20}\\n\".format(atomType, str(x), str(y), str(z))\n",
    "    \n",
    "    try:\n",
    "        label = mol.GetProp(\"Label\")\n",
    "    except Exception as e:\n",
    "        label = nw_file.split('.')[0]\n",
    "    \n",
    "    with open(nw_file, \"w+\") as f:\n",
    "        f.write(\"echo\\n\")\n",
    "        f.write(\"title {}_{}_ESP_Calculation\\n\".format(label, cid))\n",
    "        f.write(\"start {}_{}\\n\\n\".format(label, cid))\n",
    "        f.write(\"geometry\\n\")\n",
    "        f.write(geometry)\n",
    "        f.write(\"end\\n\\n\")\n",
    "        f.write(\"charge {}\\n\\n\".format(mol.GetProp(\"Charge\")))\n",
    "        f.write(\"basis\\n\\t* library {}\\nend\\n\\n\".format(basis))\n",
    "        f.write(\"driver\\n\\tmaxiter 100\\n\\txyz {}_{}\\nend\\n\\n\".format(label, cid))\n",
    "        f.write(\"dft\\n\\txc b3lyp\\n\\tmaxiter 2000\\nend\\n\")\n",
    "        f.write(\"task dft optimize\\n\\n\")\n",
    "        if calc_ESP:\n",
    "            f.write(\"esp\\n\\trecalculate\\n\\trange 0.2\\n\\tprobe 0.1\\n\\tspacing 0.025\\nend\\n\")\n",
    "            f.write(\"task esp\")\n",
    "    \n",
    "    return True"
   ]
  },
  {
   "cell_type": "code",
   "execution_count": null,
   "metadata": {},
   "outputs": [],
   "source": [
    "data = pd.read_csv(\"../Catalysts/catalysts_subs.csv\")\n",
    "smiles = data[\"smiles\"]\n",
    "labels = data[\"label\"]\n",
    "charges = data[\"charge\"]\n",
    "mols =[]\n",
    "for smi, label, charge in zip(smiles, labels, charges):\n",
    "    mol = Chem.MolFromSmiles(smi)\n",
    "    mol.SetProp(\"Label\", str(label))\n",
    "    mol.SetProp(\"Charge\", str(charge))\n",
    "    mols.append(mol)"
   ]
  },
  {
   "cell_type": "code",
   "execution_count": null,
   "metadata": {},
   "outputs": [],
   "source": [
    "for mol in mols:\n",
    "    label = mol.GetProp(\"Label\")\n",
    "    path = os.path.join(root_dir, label)\n",
    "    if not os.path.exists(path):\n",
    "        os.mkdir(path)\n",
    "    mol = Chem.AddHs(mol)\n",
    "    \n",
    "    # generate conformers\n",
    "    AllChem.EmbedMultipleConfs(mol, numConfs=50)\n",
    "    res = AllChem.MMFFOptimizeMoleculeConfs(mol, numThreads=0)\n",
    "    confs = [(k, res[k][1]) for k in range(numConfs)]\n",
    "    # sort with regard to energy\n",
    "    confs.sort(key=lambda x: x[-1])\n",
    "    AllChem.AlignMolConformers(mol)\n",
    "    # select 3 conformers: conf with the least energy and the two confs with the highest rms to it\n",
    "    tmp = []\n",
    "    cid1, energy1 = confs[0]\n",
    "    for i in range(1, numConfs):\n",
    "        cid2, energy2 = confs[i]\n",
    "        rms = AllChem.GetConformerRMS(mol, cid1, cid2, prealigned=True)\n",
    "        tmp.append((cid2, rms))\n",
    "    tmp.sort(key=lambda x: x[-1], reverse=True)\n",
    "\n",
    "    select_cids = [x[0] for x in tmp[:3]]\n",
    "    \n",
    "    # write .nw file\n",
    "    for cid in select_cids:\n",
    "        write_nw_file(os.path.join(path, f\"{label}_{cid}.nw\"), mol, cid=cid)"
   ]
  },
  {
   "cell_type": "code",
   "execution_count": null,
   "metadata": {},
   "outputs": [],
   "source": [
    "# Read .grid file\n",
    "def read_grid_file(grid_file):\n",
    "    try:\n",
    "        with open(grid_file, 'r') as f:\n",
    "            data = f.read().split(\"\\n\")[1:-1]\n",
    "\n",
    "        esp = np.array([float(d.split()[-1]) for d in data])\n",
    "\n",
    "        # Hatree(a.u.) -> kcal/mol\n",
    "        esp = esp * 27.2114 * 1.6022e-19 * 6.022e23 / 4.1858518 / 1000\n",
    "        \n",
    "        print(\"Read file:\", grid_file)\n",
    "        return esp\n",
    "    except Exception as e:\n",
    "        print(\"Fail to read:\", grid_file)\n",
    "\n",
    "        \n",
    "grid_files = {}\n",
    "ESPMAX_res = {}\n",
    "ESPMIN_res = {}\n",
    "for label in labels:\n",
    "    grid_files[label] = []\n",
    "    ESPMAX_res[label] = []\n",
    "    ESPMIN_res[label] = []\n",
    "    path = os.path.join(root_dir, \"Results\", str(label))\n",
    "    for root, dirs, files in os.walk(path):\n",
    "        for file in files:\n",
    "            if \".grid\" in file and \"checkpoint\" not in file:\n",
    "                grid_files[label].append(file)\n",
    "                esp = read_grid_file(os.path.join(path, file))\n",
    "                ESPMAX_res[label].append(esp.max())\n",
    "                ESPMIN_res[label].append(esp.min())\n",
    "ESPMAX_res"
   ]
  },
  {
   "cell_type": "code",
   "execution_count": 35,
   "metadata": {},
   "outputs": [
    {
     "data": {
      "image/png": "[encoded data removed]",
      "text/plain": [
       "<Figure size 1152x648 with 1 Axes>"
      ]
     },
     "metadata": {
      "needs_background": "light"
     },
     "output_type": "display_data"
    }
   ],
   "source": [
    "# Plot\n",
    "import pandas as pd\n",
    "import matplotlib.pyplot as plt\n",
    "\n",
    "labels = list(ESPMAX_res.keys())\n",
    "df = pd.DataFrame(ESPMAX_res)\n",
    "std = df.apply(lambda x: x.std(), axis=0)\n",
    "mean = df.apply(lambda x: x.mean(), axis=0)\n",
    "index = np.arange(len(labels))\n",
    "df.to_csv(\"Results.csv\")\n",
    "\n",
    "plt.figure(figsize=(16,9))\n",
    "plt.xlabel(\"Catalysts\")\n",
    "plt.ylabel(r\"ESPMAX / $kcal \\cdot mol^{-1}$\")\n",
    "plt.bar(index, mean, yerr=std, error_kw={'capsize':4})\n",
    "plt.xticks(index, labels)\n",
    "plt.ylim(120, 175)\n",
    "plt.savefig(\"Results.png\", dpi=300)"
   ]
  },
  {
   "cell_type": "code",
   "execution_count": null,
   "metadata": {},
   "outputs": [],
   "source": []
  }
 ],
 "metadata": {
  "kernelspec": {
   "display_name": "deepchem",
   "language": "python",
   "name": "deepchem"
  },
  "language_info": {
   "codemirror_mode": {
    "name": "ipython",
    "version": 3
   },
   "file_extension": ".py",
   "mimetype": "text/x-python",
   "name": "python",
   "nbconvert_exporter": "python",
   "pygments_lexer": "ipython3",
   "version": "3.7.7"
  }
 },
 "nbformat": 4,
 "nbformat_minor": 4
}
